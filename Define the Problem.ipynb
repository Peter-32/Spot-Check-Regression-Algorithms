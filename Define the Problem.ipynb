{
 "cells": [
  {
   "cell_type": "code",
   "execution_count": 1,
   "metadata": {},
   "outputs": [
    {
     "name": "stdout",
     "output_type": "stream",
     "text": [
      "              CRIM  INDUS   CHAS    NOX    RM     AGE  RAD  TAX  PTRATIO  \\\n",
      "0.00632 18.0  2.31      0  0.538  6.575  65.2  4.0900    1  296     15.3   \n",
      "0.02731 0.0   7.07      0  0.469  6.421  78.9  4.9671    2  242     17.8   \n",
      "0.02729 0.0   7.07      0  0.469  7.185  61.1  4.9671    2  242     17.8   \n",
      "0.03237 0.0   2.18      0  0.458  6.998  45.8  6.0622    3  222     18.7   \n",
      "\n",
      "                   B  LSTAT  MEDV  \n",
      "0.00632 18.0  396.90   4.98  24.0  \n",
      "0.02731 0.0   396.90   9.14  21.6  \n",
      "0.02729 0.0   392.83   4.03  34.7  \n",
      "0.03237 0.0   394.63   2.94  33.4  \n"
     ]
    },
    {
     "data": {
      "text/plain": [
       "<matplotlib.figure.Figure at 0x10499a550>"
      ]
     },
     "metadata": {},
     "output_type": "display_data"
    },
    {
     "name": "stdout",
     "output_type": "stream",
     "text": [
      "False\n"
     ]
    }
   ],
   "source": [
    "import pandas as pd\n",
    "import seaborn as sns\n",
    "import numpy as np\n",
    "import pandas as pd\n",
    "import matplotlib as mpl\n",
    "import matplotlib.pyplot as plt\n",
    "import missingno as msno\n",
    "from sklearn.preprocessing import StandardScaler\n",
    "from pandasql import sqldf\n",
    "q = lambda q: sqldf(q, globals())\n",
    "mpl.rcParams['figure.figsize'] = (15.0, 5.0)\n",
    "\n",
    "df = pd.read_csv(\"housingdata.csv\", header=None, names = ['CRIM','INDUS','CHAS','NOX','RM','AGE','RAD','TAX','PTRATIO','B','LSTAT','MEDV'])\n",
    "\n",
    "print(df.iloc[0:4])\n",
    "# Check for nulls:\n",
    "msno.matrix(df)\n",
    "plt.show()\n",
    "# Check for infinities:\n",
    "df_temp = df.fillna(0)\n",
    "df_temp = df_temp.replace([np.inf, -np.inf], np.nan)\n",
    "print(df_temp.isnull().values.any())\n"
   ]
  },
  {
   "cell_type": "code",
   "execution_count": null,
   "metadata": {},
   "outputs": [],
   "source": []
  }
 ],
 "metadata": {
  "kernelspec": {
   "display_name": "commons",
   "language": "python",
   "name": "commons"
  },
  "language_info": {
   "codemirror_mode": {
    "name": "ipython",
    "version": 3
   },
   "file_extension": ".py",
   "mimetype": "text/x-python",
   "name": "python",
   "nbconvert_exporter": "python",
   "pygments_lexer": "ipython3",
   "version": "3.6.1"
  }
 },
 "nbformat": 4,
 "nbformat_minor": 2
}
