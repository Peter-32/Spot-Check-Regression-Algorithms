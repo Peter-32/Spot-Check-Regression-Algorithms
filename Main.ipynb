{
 "cells": [
  {
   "cell_type": "code",
   "execution_count": 89,
   "metadata": {},
   "outputs": [],
   "source": [
    "import pandas as pd\n",
    "import seaborn as sns\n",
    "import numpy as np\n",
    "import matplotlib as mpl\n",
    "import matplotlib.pyplot as plt\n",
    "import missingno as msno\n",
    "from sklearn.preprocessing import StandardScaler\n",
    "from pandasql import sqldf\n",
    "from sklearn.metrics import mean_squared_error\n",
    "from sklearn import linear_model, neighbors, tree, svm, ensemble\n",
    "from xgboost import XGBRegressor\n",
    "from sklearn.pipeline import make_pipeline\n",
    "from tpot.builtins import StackingEstimator\n",
    "from sklearn.model_selection import KFold\n",
    "from sklearn.model_selection import cross_val_score\n",
    "from sklearn.grid_search import GridSearchCV\n",
    "from sklearn.pipeline import Pipeline\n",
    "pd.set_option('display.width', 5000)\n",
    "pd.set_option('display.max_columns', 60)\n",
    "%matplotlib inline\n",
    "q = lambda q: sqldf(q, globals())\n",
    "mpl.rcParams['figure.figsize'] = (4.0, 4.0)"
   ]
  },
  {
   "cell_type": "code",
   "execution_count": 128,
   "metadata": {},
   "outputs": [
    {
     "name": "stdout",
     "output_type": "stream",
     "text": [
      "The baseline mse is 84.41955615616556\n"
     ]
    },
    {
     "data": {
      "image/png": "[encoded data removed]",
      "text/plain": [
       "<matplotlib.figure.Figure at 0x11b169668>"
      ]
     },
     "metadata": {},
     "output_type": "display_data"
    }
   ],
   "source": [
    "# Prepare Data\n",
    "df = pd.read_csv(\"housingdata.csv\", header=None, names = ['CRIM','INDUS','CHAS','NOX','RM','AGE','RAD','TAX','PTRATIO','B','LSTAT','MEDV'])\n",
    "X = df.drop([\"MEDV\"], axis=1).values\n",
    "scaler = StandardScaler()\n",
    "X = scaler.fit_transform(X)\n",
    "y = df[\"MEDV\"].values\n",
    "\n",
    "# Spot Check Algorithms\n",
    "y_pred = np.ones(len(y)) * y.mean()\n",
    "baseline_mse = mean_squared_error(y, y_pred)\n",
    "print(\"The baseline mse is {}\".format(baseline_mse))\n",
    "\n",
    "# Improve Results\n",
    "models = []\n",
    "models.append((\"LR\",linear_model.LinearRegression()))\n",
    "models.append((\"SGDRegressor\",linear_model.SGDRegressor()))\n",
    "models.append((\"ElasticNet\",linear_model.ElasticNet()))\n",
    "models.append((\"Ridge\",linear_model.Ridge()))\n",
    "models.append((\"KNN\",neighbors.KNeighborsRegressor()))\n",
    "models.append((\"DT\",tree.DecisionTreeRegressor()))\n",
    "models.append((\"SVRLinear\",svm.SVR(kernel='linear')))\n",
    "models.append((\"SVRPoly\",svm.SVR(kernel='poly')))\n",
    "models.append((\"SVRRbf\",svm.SVR(kernel='rbf')))\n",
    "models.append((\"SVRSigmoid\",svm.SVR(kernel='sigmoid')))\n",
    "bag_models = []\n",
    "for name, model in models:\n",
    "    bag_models.append((\"Bagging\" + name,ensemble.BaggingRegressor(model,max_samples=0.5, max_features=0.5)))\n",
    "models = models + bag_models\n",
    "models.append((\"ExtraTreesRegressor\",ensemble.ExtraTreesRegressor(n_estimators=50, max_depth=None, min_samples_split=2, random_state=2)))\n",
    "models.append((\"AdaBoost\",ensemble.AdaBoostRegressor(n_estimators=50, random_state=2)))\n",
    "models.append((\"GradientBoostingRegressor\",ensemble.GradientBoostingRegressor(n_estimators=100, learning_rate=1.0, max_depth=1, random_state=0)))\n",
    "models.append((\"RandomForestRegressor\",ensemble.RandomForestRegressor(n_estimators = 50, max_features=\"log2\", min_samples_leaf=5, criterion=\"mse\",bootstrap = True,random_state=2)))\n",
    "models.append((\"XGBRegressor\",make_pipeline(StackingEstimator(estimator=linear_model.RidgeCV()),\n",
    "XGBRegressor(learning_rate=0.1, max_depth=10, min_child_weight=13, n_estimators=40, nthread=1, subsample=0.55))))\n",
    "names, mses = [], []\n",
    "for name, model in models:\n",
    "    cv_mse = cross_val_score(model, X, y, cv = KFold(n_splits=5, random_state=22), scoring='neg_mean_squared_error')\n",
    "    names.append(name), mses.append(-1*cv_mse.mean())\n",
    "models_df = pd.DataFrame({'name': names, 'mse': results}).sort_values(by=['mse']).iloc[0:3]\n",
    "ax = sns.barplot(x=\"name\", y=\"mse\", data=models_df)\n",
    "ax.set_xticklabels(models_df['name'], rotation=75, fontdict={'fontsize': 12})\n",
    "plt.show()"
   ]
  },
  {
   "cell_type": "code",
   "execution_count": 136,
   "metadata": {},
   "outputs": [
    {
     "name": "stdout",
     "output_type": "stream",
     "text": [
      "Best Model: Pipeline(steps=[('clf', RandomForestRegressor(bootstrap=True, criterion='mse', max_depth=None,\n",
      "           max_features='sqrt', max_leaf_nodes=None,\n",
      "           min_impurity_split=1e-07, min_samples_leaf=1,\n",
      "           min_samples_split=2, min_weight_fraction_leaf=0.0,\n",
      "           n_estimators=75, n_jobs=1, oob_score=False, random_state=None,\n",
      "           verbose=0, warm_start=False))])\n",
      "MSE: \n",
      "Best Features:\n"
     ]
    },
    {
     "data": {
      "image/png": "[encoded data removed]",
      "text/plain": [
       "<matplotlib.figure.Figure at 0x11b990c88>"
      ]
     },
     "metadata": {},
     "output_type": "display_data"
    }
   ],
   "source": [
    "pipe_random_forest = Pipeline([('clf', ensemble.RandomForestRegressor(max_depth=None))])\n",
    "param_grid = [{'clf__max_features': ['auto', 'sqrt', 'log2', 0.2],\n",
    "               'clf__n_estimators': [25, 50, 75],\n",
    "               'clf__min_samples_leaf': [1, 2, 3, 4],\n",
    "               'clf__criterion': ['mse']}]\n",
    "gs = GridSearchCV(estimator=pipe_random_forest,\n",
    "                 param_grid=param_grid,\n",
    "                 scoring='neg_mean_squared_error',\n",
    "                 cv=5,\n",
    "                 n_jobs=-1)\n",
    "gs = gs.fit(X, y)\n",
    "print(\"Best Model: {}\".format(gs.best_estimator_))\n",
    "print(\"MSE: \".format(-1*np.round(gs.best_score_,1)))\n",
    "print(\"Best Features:\")\n",
    "model = gs.best_estimator_.steps[0][1]\n",
    "X = df.drop([\"MEDV\"], axis=1)\n",
    "feats = {}\n",
    "for feature, importance in zip(X, model.feature_importances_):\n",
    "    feats[feature] = importance\n",
    "ginis = pd.DataFrame.from_dict(feats, orient='index').rename(columns={0: 'gini_importance'})\n",
    "ginis = ginis.query('gini_importance>=0.04')\n",
    "ax = ginis.sort_values(by='gini_importance').plot(kind='bar', rot=90)\n",
    "plt.show()"
   ]
  },
  {
   "cell_type": "code",
   "execution_count": null,
   "metadata": {},
   "outputs": [],
   "source": []
  }
 ],
 "metadata": {
  "kernelspec": {
   "display_name": "commons",
   "language": "python",
   "name": "commons"
  },
  "language_info": {
   "codemirror_mode": {
    "name": "ipython",
    "version": 3
   },
   "file_extension": ".py",
   "mimetype": "text/x-python",
   "name": "python",
   "nbconvert_exporter": "python",
   "pygments_lexer": "ipython3",
   "version": "3.6.1"
  }
 },
 "nbformat": 4,
 "nbformat_minor": 2
}
